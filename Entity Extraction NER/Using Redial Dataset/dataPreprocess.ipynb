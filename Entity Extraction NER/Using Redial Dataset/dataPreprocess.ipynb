{
 "cells": [
  {
   "cell_type": "code",
   "execution_count": 2,
   "metadata": {},
   "outputs": [],
   "source": [
    "import pandas as pd\n",
    "\n",
    "# Read the original CSV file\n",
    "df = pd.read_csv('movies_with_mentions.csv')\n",
    "\n",
    "# Extract only the movieId and movieName columns\n",
    "df_extracted = df[['movieId', 'movieName']]\n",
    "\n",
    "# Save the extracted data to a new CSV file\n",
    "df_extracted.to_csv('extracted.csv', index=False)\n"
   ]
  },
  {
   "cell_type": "code",
   "execution_count": 6,
   "metadata": {},
   "outputs": [
    {
     "data": {
      "text/plain": [
       "(6924, 2)"
      ]
     },
     "execution_count": 6,
     "metadata": {},
     "output_type": "execute_result"
    }
   ],
   "source": [
    "df.shape\n"
   ]
  },
  {
   "cell_type": "code",
   "execution_count": 16,
   "metadata": {},
   "outputs": [],
   "source": [
    "import pandas as pd\n",
    "import requests\n",
    "import time\n",
    "\n",
    "# Read the original CSV file\n",
    "df = pd.read_csv('movies_with_year.csv')\n",
    "\n",
    "# Limit the dataframe to the first 5 movies\n",
    "# Your OMDb API key\n",
    "api_key = '61b12258'\n",
    "\n",
    "# Function to fetch movie details\n",
    "def fetch_movie_details(movie_names):\n",
    "    actors_list = []\n",
    "    directors_list = []\n",
    "    \n",
    "    for movie in movie_names:\n",
    "        url = f\"http://www.omdbapi.com/?t={movie}&apikey={api_key}\"\n",
    "        response = requests.get(url)\n",
    "        data = response.json()\n",
    "        \n",
    "        if data['Response'] == 'True':\n",
    "            actors = data.get('Actors', '')\n",
    "            directors = data.get('Director', '')\n",
    "            actors_list.append(actors)\n",
    "            directors_list.append(directors)\n",
    "        else:\n",
    "            actors_list.append('')\n",
    "            directors_list.append('')\n",
    "    \n",
    "    return actors_list, directors_list\n",
    "\n",
    "# Process movies in batches\n",
    "batch_size = 10  # Adjust this based on your API limit and number of movies\n",
    "actors_collected = []\n",
    "directors_collected = []\n",
    "\n",
    "for start_idx in range(0, len(df), batch_size):\n",
    "    batch_movies = df['movieName'].iloc[start_idx:start_idx + batch_size].tolist()\n",
    "    actors_batch, directors_batch = fetch_movie_details(batch_movies)\n",
    "    actors_collected.extend(actors_batch)\n",
    "    directors_collected.extend(directors_batch)\n",
    "    \n",
    "    # Delay to respect API rate limits\n",
    "    time.sleep(1)  # Adjust delay as needed\n",
    "    \n",
    "# Add the actors and directors to the DataFrame\n",
    "df['Actors'] = actors_collected\n",
    "df['Directors'] = directors_collected\n",
    "\n",
    "# Save the updated DataFrame to a new CSV file\n",
    "df.to_csv('movies_with_cast_and_crew.csv', index=False)\n"
   ]
  },
  {
   "cell_type": "code",
   "execution_count": 11,
   "metadata": {},
   "outputs": [
    {
     "name": "stdout",
     "output_type": "stream",
     "text": [
      "      movieId               movieName  Year\n",
      "0       75796              Headhunter  2009\n",
      "1       75815  Angels in the Outfield  1994\n",
      "2       75822  Eddie and the Cruisers  1983\n",
      "3       75828          Ninja Assassin  2009\n",
      "4       75867                 Orgazmo  1997\n",
      "...       ...                     ...   ...\n",
      "6919   206079     2036 Origin Unknown  2018\n",
      "6920   206080            The Hatching  2016\n",
      "6921   206085           Hotel Artemis  2018\n",
      "6922   206087              Hereditary  2018\n",
      "6923   206092                  Mowgli  2019\n",
      "\n",
      "[6924 rows x 3 columns]\n"
     ]
    }
   ],
   "source": [
    "import pandas as pd\n",
    "import re\n",
    "\n",
    "# Read the original CSV file\n",
    "df = pd.read_csv('extracted.csv')\n",
    "\n",
    "# Limit the dataframe to the first 5 movies\n",
    "\n",
    "# Function to extract year from movie name and remove it from the name\n",
    "def extract_year(movie_name):\n",
    "    match = re.search(r'\\((\\d{4})\\)', movie_name)\n",
    "    if match:\n",
    "        year = match.group(1)\n",
    "        movie_name = re.sub(r'\\s*\\(\\d{4}\\)\\s*', '', movie_name)\n",
    "    else:\n",
    "        year = ''\n",
    "    return movie_name, year\n",
    "\n",
    "# Apply the function to each movie name\n",
    "df['movieName'], df['Year'] = zip(*df['movieName'].apply(extract_year))\n",
    "\n",
    "# Save the updated DataFrame to a new CSV file\n",
    "df.to_csv('movies_with_year.csv', index=False)\n",
    "\n",
    "print(df)\n"
   ]
  },
  {
   "cell_type": "code",
   "execution_count": 17,
   "metadata": {},
   "outputs": [
    {
     "name": "stdout",
     "output_type": "stream",
     "text": [
      "Unique actors and directors have been saved to 'unique_actors.csv' and 'unique_directors.csv'.\n"
     ]
    }
   ],
   "source": [
    "import pandas as pd\n",
    "\n",
    "# Read the original CSV file with updated data\n",
    "df = pd.read_csv('movies_with_cast_and_crew.csv')\n",
    "\n",
    "# Function to split and clean actor and director names\n",
    "def split_and_clean(names):\n",
    "    if pd.isna(names):\n",
    "        return []\n",
    "    return [name.strip() for name in names.split(',')]\n",
    "\n",
    "# Extract and clean actor names\n",
    "actor_names = df['Actors'].dropna().apply(split_and_clean).explode().unique()\n",
    "\n",
    "# Extract and clean director names\n",
    "director_names = df['Directors'].dropna().apply(split_and_clean).explode().unique()\n",
    "\n",
    "# Create DataFrames for unique actor and director names\n",
    "actors_df = pd.DataFrame(actor_names, columns=['ActorName'])\n",
    "directors_df = pd.DataFrame(director_names, columns=['DirectorName'])\n",
    "\n",
    "# Save the unique actor names to a CSV file\n",
    "actors_df.to_csv('unique_actors.csv', index=False)\n",
    "\n",
    "# Save the unique director names to a CSV file\n",
    "directors_df.to_csv('unique_directors.csv', index=False)\n",
    "\n",
    "print(\"Unique actors and directors have been saved to 'unique_actors.csv' and 'unique_directors.csv'.\")\n"
   ]
  }
 ],
 "metadata": {
  "kernelspec": {
   "display_name": "Python 3",
   "language": "python",
   "name": "python3"
  },
  "language_info": {
   "codemirror_mode": {
    "name": "ipython",
    "version": 3
   },
   "file_extension": ".py",
   "mimetype": "text/x-python",
   "name": "python",
   "nbconvert_exporter": "python",
   "pygments_lexer": "ipython3",
   "version": "3.11.5"
  }
 },
 "nbformat": 4,
 "nbformat_minor": 2
}
